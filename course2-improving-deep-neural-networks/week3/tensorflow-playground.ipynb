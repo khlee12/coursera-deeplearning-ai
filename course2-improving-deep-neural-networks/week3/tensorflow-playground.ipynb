{
 "cells": [
  {
   "cell_type": "code",
   "execution_count": 1,
   "metadata": {
    "collapsed": true
   },
   "outputs": [
    {
     "data": {
      "text/plain": [
       "\"\\n[Course2- Week3- Introduction to programming frameworks- Tensorflow]\\n**start to use tensorflow to get the basic structure of tensorflow\\nlets say, we have cost function below, \\ncost function: w*w -10*w + 25 = (w-5)**2\\n\\nso if we want to make cost as small as possible, \\nwe have to make w as closer as 5.\\n\\nbut, let's say we don't know that,\\nand try to get the answer above using tensorflow.\\n\""
      ]
     },
     "execution_count": 1,
     "metadata": {},
     "output_type": "execute_result"
    }
   ],
   "source": [
    "'''\n",
    "[Course2- Week3- Introduction to programming frameworks- Tensorflow]\n",
    "**start to use tensorflow to get the basic structure of tensorflow\n",
    "lets say, we have cost function below, \n",
    "cost function: w*w -10*w + 25 = (w-5)**2\n",
    "\n",
    "so if we want to make cost as small as possible, \n",
    "we have to make w as closer as 5.\n",
    "\n",
    "but, let's say we don't know that,\n",
    "and try to get the answer above using tensorflow.\n",
    "'''\n",
    " "
   ]
  },
  {
   "cell_type": "code",
   "execution_count": 2,
   "metadata": {
    "collapsed": true
   },
   "outputs": [],
   "source": [
    "import numpy as np\n",
    "import tensorflow as tf"
   ]
  },
  {
   "cell_type": "code",
   "execution_count": 3,
   "metadata": {},
   "outputs": [
    {
     "name": "stdout",
     "output_type": "stream",
     "text": [
      "0.0\n"
     ]
    }
   ],
   "source": [
    "# cost function: w** -10w + 25 = (w-5)**\n",
    "w = tf.Variable(0, dtype=tf.float32)\n",
    "cost = tf.add(tf.add(w**2, tf.multiply(-10., w)), 25)\n",
    "# cost = w**2 - 10*w + 25\n",
    "# using gradient descent(learning rate is 0.01) and the goal is minimize the cost\n",
    "train = tf.train.GradientDescentOptimizer(0.01).minimize(cost)\n",
    "\n",
    "init = tf.global_variables_initializer()\n",
    "# start a tensorflow session\n",
    "session = tf.Session()\n",
    "# to initialize global variables\n",
    "session.run(init)\n",
    "# let tensorflow to evaluate variables 对变量求值\n",
    "# and lets try print it out\n",
    "print( session.run(w))\n",
    "\n",
    "# it prints nothing, because we didnt execute anything"
   ]
  },
  {
   "cell_type": "code",
   "execution_count": 4,
   "metadata": {},
   "outputs": [
    {
     "name": "stdout",
     "output_type": "stream",
     "text": [
      "0.099999994\n"
     ]
    }
   ],
   "source": [
    "# run one step of gradient descent\n",
    "session.run(train)\n",
    "# lets evaluate the variable\n",
    "print(session.run(w))"
   ]
  },
  {
   "cell_type": "code",
   "execution_count": 5,
   "metadata": {},
   "outputs": [
    {
     "name": "stdout",
     "output_type": "stream",
     "text": [
      "4.9999886\n"
     ]
    }
   ],
   "source": [
    "# run 1000 times of gradient descent\n",
    "for i in range(1000):\n",
    "    session.run(train)\n",
    "print(session.run(w))"
   ]
  },
  {
   "cell_type": "code",
   "execution_count": 6,
   "metadata": {
    "collapsed": true
   },
   "outputs": [
    {
     "data": {
      "text/plain": [
       "'\\nWOW, w is 4.99999 which is very close to 5.\\nnotice that, \\n1) w is the variable we want to optimize,\\nso we declared that as a variable.\\n2) tensorflow knows how to take the derivatives respect to add or multiply.\\nso you only have to declare forward propagation, \\nand tensorflow automatically figure out the bacward propagation for us.\\n'"
      ]
     },
     "execution_count": 6,
     "metadata": {},
     "output_type": "execute_result"
    }
   ],
   "source": [
    "'''\n",
    "WOW, w is 4.99999 which is very close to 5.\n",
    "notice that, \n",
    "1) w is the variable we want to optimize,\n",
    "so we declared that as a variable.\n",
    "2) tensorflow knows how to take the derivatives respect to add or multiply.\n",
    "so you only have to declare forward propagation, \n",
    "and tensorflow automatically figure out the bacward propagation for us.\n",
    "'''"
   ]
  },
  {
   "cell_type": "code",
   "execution_count": 7,
   "metadata": {},
   "outputs": [
    {
     "name": "stdout",
     "output_type": "stream",
     "text": [
      "0.0\n"
     ]
    }
   ],
   "source": [
    "# 损失函数的系数\n",
    "coefficients = np.array([[1.], [-10.], [25.]])\n",
    "\n",
    "w = tf.Variable(0, dtype=tf.float32)\n",
    "# 因为训练样本每一个都不同，所以事先定义一个x作为一个placeholder，\n",
    "# 再将样本输入到x里\n",
    "x = tf.placeholder(tf.float32, [3, 1])\n",
    "\n",
    "cost = x[0][0]*w**2 + x[1][0]*w + x[2][0] # w*w*x -10*w*x + 25\n",
    "train = tf.train.GradientDescentOptimizer(0.01).minimize(cost)\n",
    "\n",
    "init = tf.global_variables_initializer()\n",
    "session = tf.Session()\n",
    "session.run(init)\n",
    "print(session.run(w))"
   ]
  },
  {
   "cell_type": "code",
   "execution_count": 8,
   "metadata": {},
   "outputs": [
    {
     "name": "stdout",
     "output_type": "stream",
     "text": [
      "0.099999994\n"
     ]
    }
   ],
   "source": [
    "# specify values for placeholder using free_dict\n",
    "session.run(train, feed_dict={x:coefficients})\n",
    "print(session.run(w))"
   ]
  },
  {
   "cell_type": "code",
   "execution_count": 9,
   "metadata": {},
   "outputs": [
    {
     "name": "stdout",
     "output_type": "stream",
     "text": [
      "4.9999886\n"
     ]
    }
   ],
   "source": [
    "for i in range(1000):\n",
    "    session.run(train, feed_dict={x:coefficients})\n",
    "print(session.run(w))"
   ]
  },
  {
   "cell_type": "code",
   "execution_count": 10,
   "metadata": {},
   "outputs": [
    {
     "data": {
      "text/plain": [
       "'\\ntensorflow程序的核心是计算代价函数，\\n之后tensorflow会自动求导，\\n并计算出如何最小化代价函数\\n'"
      ]
     },
     "execution_count": 10,
     "metadata": {},
     "output_type": "execute_result"
    }
   ],
   "source": [
    "'''\n",
    "tensorflow程序的核心是计算代价函数，\n",
    "之后tensorflow会自动求导，\n",
    "并计算出如何最小化代价函数\n",
    "'''"
   ]
  },
  {
   "cell_type": "code",
   "execution_count": null,
   "metadata": {},
   "outputs": [],
   "source": []
  }
 ],
 "metadata": {
  "kernelspec": {
   "display_name": "Python 3",
   "language": "python",
   "name": "python3"
  },
  "language_info": {
   "codemirror_mode": {
    "name": "ipython",
    "version": 3
   },
   "file_extension": ".py",
   "mimetype": "text/x-python",
   "name": "python",
   "nbconvert_exporter": "python",
   "pygments_lexer": "ipython3",
   "version": "3.6.6"
  }
 },
 "nbformat": 4,
 "nbformat_minor": 2
}
